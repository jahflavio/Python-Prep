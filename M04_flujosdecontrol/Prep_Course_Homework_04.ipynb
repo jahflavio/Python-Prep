{
 "cells": [
  {
   "attachments": {},
   "cell_type": "markdown",
   "metadata": {},
   "source": [
    "## Flujos de Control"
   ]
  },
  {
   "attachments": {},
   "cell_type": "markdown",
   "metadata": {},
   "source": [
    "1) Crear una variable que contenga un elemento del conjunto de números enteros y luego imprimir por pantalla si es mayor o menor a cero"
   ]
  },
  {
   "cell_type": "code",
   "execution_count": 6,
   "metadata": {},
   "outputs": [
    {
     "name": "stdout",
     "output_type": "stream",
     "text": [
      "El número -1 es mayor que cero\n",
      "El número -1 es mayor que cero\n",
      "El número -1 es mayor que cero\n",
      "El número -1 es mayor que cero\n"
     ]
    }
   ],
   "source": [
    "numero = -1\n",
    "\n",
    "# CON f-string (más moderno y legible)\n",
    "print(f\"El número {numero} es mayor que cero\")\n",
    "\n",
    "# SIN f-string - Opción 1: Concatenación con +\n",
    "print(\"El número \" + str(numero) + \" es mayor que cero\")\n",
    "\n",
    "# SIN f-string - Opción 2: Método format()\n",
    "print(\"El número {} es mayor que cero\".format(numero))\n",
    "\n",
    "# SIN f-string - Opción 3: Operador %\n",
    "print(\"El número %d es mayor que cero\" % numero)\n",
    "\n",
    "# Todas imprimen lo mismo: \"El número 10 es mayor que cero\""
   ]
  },
  {
   "cell_type": "code",
   "execution_count": 7,
   "metadata": {},
   "outputs": [
    {
     "name": "stdout",
     "output_type": "stream",
     "text": [
      "=== 1. F-STRINGS (Python 3.6+) ===\n",
      "El número 10 es mayor que cero\n",
      "Precio: $19.99\n",
      "Cálculo directo: 20\n",
      "Mayúsculas: JUAN\n",
      "\n",
      "=== 2. CONCATENACIÓN CON + ===\n",
      "El número 10 es mayor que cero\n",
      "\n",
      "=== 3. MÉTODO .format() (Python 2.7+) ===\n",
      "El número 10 es mayor que cero\n",
      "Precio: $19.99\n",
      "Juan compró 10 items por $19.99\n",
      "Juan compró 10 items\n",
      "\n",
      "=== 4. OPERADOR % (Estilo C, más antiguo) ===\n",
      "El número 10 es mayor que cero\n",
      "Precio: $19.99\n",
      "Juan compró 10 items\n",
      "\n",
      "=== COMPARACIÓN DE CASOS ESPECIALES ===\n",
      "Juan tiene 25 años y gastó $19.99\n",
      "Juan tiene 25 años y gastó $19.99\n",
      "Juan tiene 25 años y gastó $19.99\n",
      "Juan tiene 25 años y gastó $19.99\n",
      "Descuento del 20%: $15.99\n",
      "Descuento del 20%: $15.99\n"
     ]
    }
   ],
   "source": [
    "# Variables de ejemplo\n",
    "numero = 10\n",
    "precio = 19.99\n",
    "nombre = \"Juan\"\n",
    "\n",
    "print(\"=== 1. F-STRINGS (Python 3.6+) ===\")\n",
    "# Más moderno, rápido y versátil\n",
    "print(f\"El número {numero} es mayor que cero\")\n",
    "print(f\"Precio: ${precio:.2f}\")  # Formato de decimales\n",
    "print(f\"Cálculo directo: {numero * 2}\")  # Expresiones dentro\n",
    "print(f\"Mayúsculas: {nombre.upper()}\")  # Métodos dentro\n",
    "\n",
    "print(\"\\n=== 2. CONCATENACIÓN CON + ===\")\n",
    "# Más básico pero limitado\n",
    "print(\"El número \" + str(numero) + \" es mayor que cero\")\n",
    "# print(\"El número \" + numero + \" es mayor que cero\")  # ERROR! No convierte automáticamente\n",
    "# Desventajas:\n",
    "# - Necesitas convertir todo a string con str()\n",
    "# - Difícil de leer con muchas variables\n",
    "# - No permite formato especial (decimales, padding, etc.)\n",
    "\n",
    "print(\"\\n=== 3. MÉTODO .format() (Python 2.7+) ===\")\n",
    "# Más flexible que concatenación\n",
    "print(\"El número {} es mayor que cero\".format(numero))\n",
    "print(\"Precio: ${:.2f}\".format(precio))  # Formato de decimales\n",
    "print(\"{0} compró {1} items por ${2}\".format(nombre, numero, precio))  # Índices\n",
    "print(\"{nombre} compró {cantidad} items\".format(nombre=nombre, cantidad=numero))  # Por nombre\n",
    "\n",
    "print(\"\\n=== 4. OPERADOR % (Estilo C, más antiguo) ===\")\n",
    "# Heredado de C, menos usado actualmente\n",
    "print(\"El número %d es mayor que cero\" % numero)\n",
    "print(\"Precio: $%.2f\" % precio)  # %.2f para 2 decimales\n",
    "print(\"%s compró %d items\" % (nombre, numero))  # Múltiples valores con tupla\n",
    "# Tipos específicos:\n",
    "# %d - enteros (decimal)\n",
    "# %s - strings\n",
    "# %f - flotantes\n",
    "# %x - hexadecimal\n",
    "\n",
    "print(\"\\n=== COMPARACIÓN DE CASOS ESPECIALES ===\")\n",
    "# Múltiples variables\n",
    "edad = 25\n",
    "print(f\"{nombre} tiene {edad} años y gastó ${precio}\")  # f-string\n",
    "print(nombre + \" tiene \" + str(edad) + \" años y gastó $\" + str(precio))  # Concatenación (difícil de leer)\n",
    "print(\"{} tiene {} años y gastó ${}\".format(nombre, edad, precio))  # format()\n",
    "print(\"%s tiene %d años y gastó $%.2f\" % (nombre, edad, precio))  # %\n",
    "\n",
    "# Expresiones complejas\n",
    "print(f\"Descuento del 20%: ${precio * 0.8:.2f}\")  # f-string permite cálculos\n",
    "# Los otros métodos necesitarían calcular antes:\n",
    "descuento = precio * 0.8\n",
    "print(\"Descuento del 20%: ${:.2f}\".format(descuento))"
   ]
  },
  {
   "cell_type": "code",
   "execution_count": 4,
   "metadata": {},
   "outputs": [
    {
     "name": "stdout",
     "output_type": "stream",
     "text": [
      "El número 1 es mayor que cero\n"
     ]
    }
   ],
   "source": [
    "# Crear una variable con un número entero\n",
    "numero = 1  # Puedes cambiar este valor por cualquier número entero\n",
    "\n",
    "# Verificar si es mayor o menor a cero\n",
    "if numero > 0:\n",
    "    print(f\"El número {numero} es mayor que cero\")\n",
    "elif numero < 0:\n",
    "    print(f\"El número {numero} es menor que cero\")\n",
    "else:\n",
    "    print(f\"El número {numero} es igual a cero\")"
   ]
  },
  {
   "attachments": {},
   "cell_type": "markdown",
   "metadata": {},
   "source": [
    "2) Crear dos variables y un condicional que informe si son del mismo tipo de dato"
   ]
  },
  {
   "cell_type": "code",
   "execution_count": null,
   "metadata": {},
   "outputs": [],
   "source": []
  },
  {
   "attachments": {},
   "cell_type": "markdown",
   "metadata": {},
   "source": [
    "3) Para los valores enteros del 1 al 20, imprimir por pantalla si es par o impar"
   ]
  },
  {
   "cell_type": "code",
   "execution_count": null,
   "metadata": {},
   "outputs": [],
   "source": []
  },
  {
   "attachments": {},
   "cell_type": "markdown",
   "metadata": {},
   "source": [
    "4) En un ciclo for mostrar para los valores entre 0 y 5 el resultado de elevarlo a la potencia igual a 3"
   ]
  },
  {
   "cell_type": "code",
   "execution_count": null,
   "metadata": {},
   "outputs": [],
   "source": []
  },
  {
   "attachments": {},
   "cell_type": "markdown",
   "metadata": {},
   "source": [
    "5) Crear una variable que contenga un número entero y realizar un ciclo for la misma cantidad de ciclos"
   ]
  },
  {
   "cell_type": "code",
   "execution_count": null,
   "metadata": {},
   "outputs": [],
   "source": []
  },
  {
   "attachments": {},
   "cell_type": "markdown",
   "metadata": {},
   "source": [
    "6) Utilizar un ciclo while para realizar el factorial de un número guardado en una variable, sólo si la variable contiene un número entero mayor a 0"
   ]
  },
  {
   "cell_type": "code",
   "execution_count": null,
   "metadata": {},
   "outputs": [],
   "source": []
  },
  {
   "attachments": {},
   "cell_type": "markdown",
   "metadata": {},
   "source": [
    "7) Crear un ciclo for dentro de un ciclo while"
   ]
  },
  {
   "cell_type": "code",
   "execution_count": null,
   "metadata": {},
   "outputs": [],
   "source": []
  },
  {
   "attachments": {},
   "cell_type": "markdown",
   "metadata": {},
   "source": [
    "8) Crear un ciclo while dentro de un ciclo for"
   ]
  },
  {
   "cell_type": "code",
   "execution_count": null,
   "metadata": {},
   "outputs": [],
   "source": []
  },
  {
   "attachments": {},
   "cell_type": "markdown",
   "metadata": {},
   "source": [
    "9) Imprimir los números primos existentes entre 0 y 30"
   ]
  },
  {
   "cell_type": "code",
   "execution_count": null,
   "metadata": {},
   "outputs": [],
   "source": []
  },
  {
   "attachments": {},
   "cell_type": "markdown",
   "metadata": {},
   "source": [
    "10) ¿Se puede mejorar el proceso del punto 9? Utilizar las sentencias break y/ó continue para tal fin"
   ]
  },
  {
   "cell_type": "code",
   "execution_count": null,
   "metadata": {},
   "outputs": [],
   "source": []
  },
  {
   "attachments": {},
   "cell_type": "markdown",
   "metadata": {},
   "source": [
    "11) En los puntos 9 y 10, se diseño un código que encuentra números primos y además se lo optimizó. ¿Es posible saber en qué medida se optimizó?"
   ]
  },
  {
   "cell_type": "code",
   "execution_count": null,
   "metadata": {},
   "outputs": [],
   "source": []
  },
  {
   "attachments": {},
   "cell_type": "markdown",
   "metadata": {},
   "source": [
    "12) Aplicando continue, armar un ciclo while que solo imprima los valores divisibles por 12, dentro del rango de números de 100 a 300"
   ]
  },
  {
   "cell_type": "code",
   "execution_count": null,
   "metadata": {},
   "outputs": [],
   "source": []
  },
  {
   "attachments": {},
   "cell_type": "markdown",
   "metadata": {},
   "source": [
    "13) Utilizar la función **input()** que permite hacer ingresos por teclado, para encontrar números primos y dar la opción al usario de buscar el siguiente"
   ]
  },
  {
   "cell_type": "code",
   "execution_count": null,
   "metadata": {},
   "outputs": [],
   "source": []
  },
  {
   "attachments": {},
   "cell_type": "markdown",
   "metadata": {},
   "source": [
    "14) Crear un ciclo while que encuentre dentro del rango de 100 a 300 el primer número divisible por 3 y además múltiplo de 6"
   ]
  },
  {
   "cell_type": "code",
   "execution_count": null,
   "metadata": {},
   "outputs": [],
   "source": []
  }
 ],
 "metadata": {
  "kernelspec": {
   "display_name": "Python 3",
   "language": "python",
   "name": "python3"
  },
  "language_info": {
   "codemirror_mode": {
    "name": "ipython",
    "version": 3
   },
   "file_extension": ".py",
   "mimetype": "text/x-python",
   "name": "python",
   "nbconvert_exporter": "python",
   "pygments_lexer": "ipython3",
   "version": "3.13.5"
  }
 },
 "nbformat": 4,
 "nbformat_minor": 4
}
